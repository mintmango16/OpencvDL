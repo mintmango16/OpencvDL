{
 "cells": [
  {
   "cell_type": "markdown",
   "id": "007912f8",
   "metadata": {},
   "source": [
    "### 1. array 형식 정수화 문자열 혼합 "
   ]
  },
  {
   "cell_type": "code",
   "execution_count": null,
   "id": "0f841fcf",
   "metadata": {},
   "outputs": [
    {
     "name": "stdout",
     "output_type": "stream",
     "text": [
      "['400' '52' 'tiger' '24' '230']\n"
     ]
    }
   ],
   "source": [
    "import numpy as np\n",
    "\n",
    "a = np.array([400, 52, 'tiger', '24', 230])\n",
    "print(a)"
   ]
  },
  {
   "cell_type": "code",
   "execution_count": 2,
   "id": "b5160fee",
   "metadata": {},
   "outputs": [
    {
     "name": "stdout",
     "output_type": "stream",
     "text": [
      "<class 'numpy.ndarray'>\n",
      "(5,)\n",
      "['230' '24' '400' '52' 'tiger']\n",
      "<class 'numpy.ndarray'>\n",
      "['T', '__abs__', '__add__', '__and__', '__array__', '__array_finalize__', '__array_function__', '__array_interface__', '__array_prepare__', '__array_priority__', '__array_struct__', '__array_ufunc__', '__array_wrap__', '__bool__', '__class__', '__class_getitem__', '__complex__', '__contains__', '__copy__', '__deepcopy__', '__delattr__', '__delitem__', '__dir__', '__divmod__', '__dlpack__', '__dlpack_device__', '__doc__', '__eq__', '__float__', '__floordiv__', '__format__', '__ge__', '__getattribute__', '__getitem__', '__gt__', '__hash__', '__iadd__', '__iand__', '__ifloordiv__', '__ilshift__', '__imatmul__', '__imod__', '__imul__', '__index__', '__init__', '__init_subclass__', '__int__', '__invert__', '__ior__', '__ipow__', '__irshift__', '__isub__', '__iter__', '__itruediv__', '__ixor__', '__le__', '__len__', '__lshift__', '__lt__', '__matmul__', '__mod__', '__mul__', '__ne__', '__neg__', '__new__', '__or__', '__pos__', '__pow__', '__radd__', '__rand__', '__rdivmod__', '__reduce__', '__reduce_ex__', '__repr__', '__rfloordiv__', '__rlshift__', '__rmatmul__', '__rmod__', '__rmul__', '__ror__', '__rpow__', '__rrshift__', '__rshift__', '__rsub__', '__rtruediv__', '__rxor__', '__setattr__', '__setitem__', '__setstate__', '__sizeof__', '__str__', '__sub__', '__subclasshook__', '__truediv__', '__xor__', 'all', 'any', 'argmax', 'argmin', 'argpartition', 'argsort', 'astype', 'base', 'byteswap', 'choose', 'clip', 'compress', 'conj', 'conjugate', 'copy', 'ctypes', 'cumprod', 'cumsum', 'data', 'diagonal', 'dot', 'dtype', 'dump', 'dumps', 'fill', 'flags', 'flat', 'flatten', 'getfield', 'imag', 'item', 'itemset', 'itemsize', 'max', 'mean', 'min', 'nbytes', 'ndim', 'newbyteorder', 'nonzero', 'partition', 'prod', 'ptp', 'put', 'ravel', 'real', 'repeat', 'reshape', 'resize', 'round', 'searchsorted', 'setfield', 'setflags', 'shape', 'size', 'sort', 'squeeze', 'std', 'strides', 'sum', 'swapaxes', 'take', 'tobytes', 'tofile', 'tolist', 'tostring', 'trace', 'transpose', 'var', 'view']\n",
      "Help on built-in function sort:\n",
      "\n",
      "sort(...) method of numpy.ndarray instance\n",
      "    a.sort(axis=-1, kind=None, order=None)\n",
      "    \n",
      "    Sort an array in-place. Refer to `numpy.sort` for full documentation.\n",
      "    \n",
      "    Parameters\n",
      "    ----------\n",
      "    axis : int, optional\n",
      "        Axis along which to sort. Default is -1, which means sort along the\n",
      "        last axis.\n",
      "    kind : {'quicksort', 'mergesort', 'heapsort', 'stable'}, optional\n",
      "        Sorting algorithm. The default is 'quicksort'. Note that both 'stable'\n",
      "        and 'mergesort' use timsort under the covers and, in general, the\n",
      "        actual implementation will vary with datatype. The 'mergesort' option\n",
      "        is retained for backwards compatibility.\n",
      "    \n",
      "        .. versionchanged:: 1.15.0\n",
      "           The 'stable' option was added.\n",
      "    \n",
      "    order : str or list of str, optional\n",
      "        When `a` is an array with fields defined, this argument specifies\n",
      "        which fields to compare first, second, etc.  A single field can\n",
      "        be specified as a string, and not all fields need be specified,\n",
      "        but unspecified fields will still be used, in the order in which\n",
      "        they come up in the dtype, to break ties.\n",
      "    \n",
      "    See Also\n",
      "    --------\n",
      "    numpy.sort : Return a sorted copy of an array.\n",
      "    numpy.argsort : Indirect sort.\n",
      "    numpy.lexsort : Indirect stable sort on multiple keys.\n",
      "    numpy.searchsorted : Find elements in sorted array.\n",
      "    numpy.partition: Partial sort.\n",
      "    \n",
      "    Notes\n",
      "    -----\n",
      "    See `numpy.sort` for notes on the different sorting algorithms.\n",
      "    \n",
      "    Examples\n",
      "    --------\n",
      "    >>> a = np.array([[1,4], [3,1]])\n",
      "    >>> a.sort(axis=1)\n",
      "    >>> a\n",
      "    array([[1, 4],\n",
      "           [1, 3]])\n",
      "    >>> a.sort(axis=0)\n",
      "    >>> a\n",
      "    array([[1, 3],\n",
      "           [1, 4]])\n",
      "    \n",
      "    Use the `order` keyword to specify a field to use when sorting a\n",
      "    structured array:\n",
      "    \n",
      "    >>> a = np.array([('a', 2), ('c', 1)], dtype=[('x', 'S1'), ('y', int)])\n",
      "    >>> a.sort(order='y')\n",
      "    >>> a\n",
      "    array([(b'c', 1), (b'a', 2)],\n",
      "          dtype=[('x', 'S1'), ('y', '<i8')])\n",
      "\n"
     ]
    }
   ],
   "source": [
    "print(type(a))\n",
    "print(a.shape)\n",
    "a.sort()\n",
    "print(a)\n",
    "\n",
    "print(type(a))\n",
    "print(dir(a)) # 해당 객체가 가지는 멤버 함수를 알려줌\n",
    "help(a.sort)"
   ]
  },
  {
   "cell_type": "markdown",
   "id": "cb483cfb",
   "metadata": {},
   "source": [
    "### 2. np.ndarray 멤버함수 조사 \n",
    "- min, max, argmin, argmax, mean, sum, cumsum, prod, cumprod"
   ]
  },
  {
   "cell_type": "code",
   "execution_count": 6,
   "id": "700ab8e9",
   "metadata": {},
   "outputs": [
    {
     "name": "stdout",
     "output_type": "stream",
     "text": [
      "0\n",
      "11\n",
      "2\n",
      "11\n",
      "5.5\n",
      "66\n",
      "[ 4  9  9 10 12 15 21 28 36 45 55 66]\n",
      "0\n",
      "[ 4 20  0  0  0  0  0  0  0  0  0  0]\n"
     ]
    }
   ],
   "source": [
    "a = np.array([4,5,0,1,2,3,6,7,8,9,10,11])\n",
    "print(a.min())\n",
    "print(a.max())\n",
    "print(a.argmin()) # 최솟값의 인덱스 반환 \n",
    "print(a.argmax())\n",
    "print(a.mean())\n",
    "print(a.sum())\n",
    "print(a.cumsum()) # 누적합 \n",
    "print(a.prod()) # 곱\n",
    "print(a.cumprod()) # 누적곱 "
   ]
  },
  {
   "cell_type": "markdown",
   "id": "805e8cbc",
   "metadata": {},
   "source": [
    "### 3. 서로 다른 영상 2개 읽어서 서로 다른 윈도우에 디스플레이 "
   ]
  },
  {
   "cell_type": "code",
   "execution_count": 1,
   "id": "03c157d2",
   "metadata": {},
   "outputs": [],
   "source": [
    "import os\n",
    "os.getcwd()\n",
    "os.chdir(\"02_OpenCV 소개\")"
   ]
  },
  {
   "cell_type": "code",
   "execution_count": null,
   "id": "97a47456",
   "metadata": {},
   "outputs": [],
   "source": [
    "import cv2 as cv\n",
    "import sys\n",
    "\n",
    "img1 = cv.imread('./hangang.jpg') # 영상 읽기\n",
    "img2 = cv.imread('./jeju.jpg') \n",
    "\n",
    "if (img1 is None) or (img2 is None) : \n",
    "    sys.exit('no file')\n",
    "    \n",
    "cv.imshow('hangang Display',img1)\n",
    "cv.imshow('jeju Display',img2)\n",
    "cv.waitKey()\n",
    "cv.destroyAllWindows()"
   ]
  },
  {
   "cell_type": "markdown",
   "id": "9ec7f14c",
   "metadata": {},
   "source": [
    "### 4. 비율별로 축소한 영상 10개 다른 윈도우에 디스플레이"
   ]
  },
  {
   "cell_type": "code",
   "execution_count": 3,
   "id": "0135e1c7",
   "metadata": {},
   "outputs": [],
   "source": [
    "import cv2 as cv\n",
    "import sys\n",
    "\n",
    "img = cv.imread('jeju.jpg')\n",
    "\n",
    "if img is None:\n",
    "    sys.exit('no file')\n",
    "    \n",
    "\n",
    "for i in range(1, 10): # 1부터 9까지 (fx, fy가 0.1부터 0.9까지)\n",
    "    # 리사이즈 비율 계산\n",
    "    scale_factor = i * 0.1\n",
    "\n",
    "    # 이미지 리사이즈\n",
    "    # dsize=(0,0)으로 설정하고 fx, fy만 사용하면, 원본 이미지 크기에 fx, fy를 곱하여 새 크기를 계산합니다.\n",
    "    resized_img = cv.resize(img, dsize=(0,0), fx=scale_factor, fy=scale_factor)\n",
    "\n",
    "    # 리사이즈된 이미지를 새 창에 표시\n",
    "    # 창 이름을 동적으로 'color image 0.1', 'color image 0.2' 등으로 만듭니다.\n",
    "    cv.imshow(f'color image {scale_factor:.1f}', resized_img)\n",
    "\n",
    "cv.waitKey(0)\n",
    "cv.destroyAllWindows()"
   ]
  },
  {
   "cell_type": "markdown",
   "id": "0d557aa1",
   "metadata": {},
   "source": [
    "### 5. 특정 키 입력 시 명암 / 컬러 영상 전환 "
   ]
  },
  {
   "cell_type": "code",
   "execution_count": null,
   "id": "f4e9cb18",
   "metadata": {},
   "outputs": [],
   "source": []
  },
  {
   "cell_type": "code",
   "execution_count": null,
   "id": "37220f89",
   "metadata": {},
   "outputs": [],
   "source": []
  },
  {
   "cell_type": "code",
   "execution_count": null,
   "id": "3254f298",
   "metadata": {},
   "outputs": [],
   "source": []
  },
  {
   "cell_type": "code",
   "execution_count": null,
   "id": "c04dced2",
   "metadata": {},
   "outputs": [],
   "source": []
  }
 ],
 "metadata": {
  "kernelspec": {
   "display_name": "py_OpencvDL",
   "language": "python",
   "name": "python3"
  },
  "language_info": {
   "codemirror_mode": {
    "name": "ipython",
    "version": 3
   },
   "file_extension": ".py",
   "mimetype": "text/x-python",
   "name": "python",
   "nbconvert_exporter": "python",
   "pygments_lexer": "ipython3",
   "version": "3.10.18"
  }
 },
 "nbformat": 4,
 "nbformat_minor": 5
}
